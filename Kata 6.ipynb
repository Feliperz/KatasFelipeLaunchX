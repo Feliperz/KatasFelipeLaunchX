{
 "cells": [
  {
   "cell_type": "markdown",
   "metadata": {},
   "source": [
    "# Ejercicio1: Crear y usar listas de Python\n",
    "<p style=\"color:yellow\" >Usar listas para almacenar nombres de planetas</p>\n",
    "pasos a seguir:<br>\n",
    "<f style=\"color:#33D8D4\">En primer lugar, crea una variable denominada planets. Agrega los ocho planetas (sin Plutón) a la lista. A continuación, muestra el número de planetas.<br>\n",
    "Agrega a Plutón a la lista que creaste. Luego muestra tanto el número de planetas como el último planeta de la lista.<br>\n"
   ]
  },
  {
   "cell_type": "code",
   "execution_count": 3,
   "metadata": {},
   "outputs": [
    {
     "name": "stdout",
     "output_type": "stream",
     "text": [
      "['mercurio', 'venus', 'tierra', 'marte', 'jupiter', 'saturno', 'urano', 'neptuno', 'pluton']\n"
     ]
    }
   ],
   "source": [
    "planets=['mercurio','venus','tierra','marte','jupiter','saturno','urano','neptuno']\n",
    "planets.append('pluton')\n",
    "print(planets)"
   ]
  },
  {
   "cell_type": "markdown",
   "metadata": {},
   "source": [
    "# Ejercicio 2: Trabajando con datos de una lista\n",
    "<p style=\"color:yellow\" >Usar slices para recuperar partes de una lista</p>\n",
    "pasos a seguir:<br>\n",
    "<f style=\"color:#33D8D4\">Comienza agregando el código para crear una lista con los planetas.<br>\n",
    "Pida al usuario ingresar un planeta que empiece por mayuscula<br>\n",
    "Encuentra el planeta en la lista<br>\n",
    "Mostrar planetas más cercanos al sol que el que el usuario ingresó<br>\n",
    "Mostrar planetas más alejados del sol que el que el usuario ingresó"
   ]
  },
  {
   "cell_type": "code",
   "execution_count": 1,
   "metadata": {},
   "outputs": [
    {
     "name": "stdout",
     "output_type": "stream",
     "text": [
      "los planetas mas cercanos al sol del planeta ingresado son: ['Mercury']\n",
      "los planetas mas lejanos al sol del planeta ingresado son: ['Earth', 'Mars', 'Jupiter', 'Saturn', 'Neptune']\n"
     ]
    }
   ],
   "source": [
    "planets = ['Mercury', 'Venus', 'Earth', 'Mars', 'Jupiter', 'Saturn', 'Neptune']\n",
    "planet_usuario = input(\"agregue un planeta de la lista (recuerde que debe poner la primer letra en mayuscula)\")\n",
    "position_planet = planets.index(planet_usuario)\n",
    "planets_before = planets[0:position_planet]\n",
    "planets_after = planets[position_planet + 1:]\n",
    "print(\"los planetas mas cercanos al sol del planeta ingresado son:\", planets_before)\n",
    "print(\"los planetas mas lejanos al sol del planeta ingresado son:\", planets_after)"
   ]
  }
 ],
 "metadata": {
  "interpreter": {
   "hash": "0d49bf394fc30ac78d1fb941c491b17abc0ec00e38fae88ef543b2e82b5a3dc9"
  },
  "kernelspec": {
   "display_name": "Python 3.9.6 64-bit",
   "language": "python",
   "name": "python3"
  },
  "language_info": {
   "codemirror_mode": {
    "name": "ipython",
    "version": 3
   },
   "file_extension": ".py",
   "mimetype": "text/x-python",
   "name": "python",
   "nbconvert_exporter": "python",
   "pygments_lexer": "ipython3",
   "version": "3.9.6"
  },
  "orig_nbformat": 4
 },
 "nbformat": 4,
 "nbformat_minor": 2
}
