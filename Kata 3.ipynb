{
 "cells": [
  {
   "cell_type": "code",
   "execution_count": null,
   "metadata": {},
   "outputs": [],
   "source": []
  },
  {
   "cell_type": "markdown",
   "metadata": {},
   "source": [
    "# Ejercicio - Escribir declaraciones if, else, y elif"
   ]
  },
  {
   "cell_type": "markdown",
   "metadata": {},
   "source": [
    "<p style=\"color:yellow\">Problema 1</p>\n",
    "La velocidad del asteroide varía dependiendo de lo cerca que esté del sol, y cualquier velocidad superior a 25 kilómetros por segundo (km/s) merece una advertencia.<br>\n",
    "Un asteroide se acerca, y viaja a una velocidad de 49 km/s.\n",
    "    <br><p style=\"color:#33D8D4\">\n",
    "    # Añadir el código necesario para crear una variable que guarde la velocidad del asteroide. \n",
    "    <br>\n",
    "    # Escribe una expresión de prueba para calcular si necesita una advertencia.\n",
    "    <br>\n",
    "    # Agregue las instrucciones que se ejecutarán si la expresión de prueba es true o false."
   ]
  },
  {
   "cell_type": "code",
   "execution_count": 1,
   "metadata": {},
   "outputs": [
    {
     "name": "stdout",
     "output_type": "stream",
     "text": [
      "Advertencia!! Asteroide aproximandose a alta velocidad\n"
     ]
    }
   ],
   "source": [
    "vel_Asteroide = 49\n",
    "if vel_Asteroide > 25:\n",
    "    print(\"Advertencia!! Asteroide aproximandose a alta velocidad\")\n",
    "else:\n",
    "    print(\"Todo Bajo Control\")"
   ]
  },
  {
   "cell_type": "markdown",
   "metadata": {},
   "source": [
    "<p style=\"color:yellow\">Problema 2</p>\n",
    "Si un asteroide entra en la atmósfera de la Tierra a una velocidad mayor o igual a 20 km/s, a veces produce un rayo de luz que se puede ver desde la Tierra. Escribe la lógica condicional que usa declaraciones if, else, y elif para alertar a las personas de todo el mundo que deben buscar un asteroide en el cielo. ¡Hay uno que se dirige a la tierra ahora a una velocidad de 19 km/s!.<br>\n",
    "    <br><p style=\"color:#33D8D4\">\n",
    "    # Agrega el código para crear una variable para un asteroide que viaja a 19 km/s\n",
    "    <br>\n",
    "    # Escribe varias expresiones de prueba para determinar si puedes ver el rayo de luz desde la tierra\n",
    "    <br>\n",
    "    # Agrega las instrucciones que se ejecutarán si las expresiones de prueba son True o False"
   ]
  },
  {
   "cell_type": "code",
   "execution_count": 2,
   "metadata": {},
   "outputs": [
    {
     "name": "stdout",
     "output_type": "stream",
     "text": [
      "Todo Normal\n"
     ]
    }
   ],
   "source": [
    "asteroide = 19\n",
    "if asteroide == 20:\n",
    "    print(\"Luz Creada por Asteroide!!\")\n",
    "elif asteroide >21:\n",
    "    print(\"Luz Creada por Asteroide!!\")\n",
    "else:\n",
    "    print(\"Todo Normal\")"
   ]
  },
  {
   "cell_type": "markdown",
   "metadata": {},
   "source": [
    "# Ejercicio: Uso de operadores and y or"
   ]
  },
  {
   "cell_type": "markdown",
   "metadata": {},
   "source": [
    "<p style=\"color:yellow\">Problema 3</p>\n",
    "Si una pieza de un asteroide que es más grande que 25 metros pero más pequeña que 1000 metros golpeara la Tierra, causaría mucho daño.<br>\n",
    "La velocidad del asteroide varía en función de lo cerca que esté del sol, y cualquier velocidad superior a 25 kilómetros por segundo (km/s) merece una advertencia.<br>\n",
    "Si un asteroide entra en la atmósfera de la Tierra a una velocidad mayor o igual a 20 km/s, a veces produce un rayo de luz que se puede ver desde la Tierra.<br>\n",
    "<p style=\"color:#33D8D4\">Agrega el código para crear nuevas variables para la velocidad y el tamaño del asteroide<br>\n",
    "Para probar el código, prueba con varias velocidades y tamaños<br>\n",
    "Escribe varias expresiones de prueba o combinaciones de expresiones de prueba para determinar qué mensaje se debe enviar a Tierra\n"
   ]
  },
  {
   "cell_type": "code",
   "execution_count": 4,
   "metadata": {},
   "outputs": [
    {
     "name": "stdout",
     "output_type": "stream",
     "text": [
      "¡Alerta!,Se acerca un asteroide\n"
     ]
    }
   ],
   "source": [
    "vel_asteroide = 27\n",
    "size_asteroide = 40\n",
    "if vel_asteroide > 25 and size_asteroide > 25:\n",
    "    print('¡Alerta!,Se acerca un asteroide')\n",
    "elif vel_asteroide >= 20:\n",
    "    print('Luz Creada por Asteroide!!')\n",
    "elif size_asteroide < 25:\n",
    "    print(\"Todo bien\")\n",
    "else:\n",
    "    print(\"Todo bien\")"
   ]
  }
 ],
 "metadata": {
  "interpreter": {
   "hash": "0d49bf394fc30ac78d1fb941c491b17abc0ec00e38fae88ef543b2e82b5a3dc9"
  },
  "kernelspec": {
   "display_name": "Python 3.9.6 64-bit",
   "language": "python",
   "name": "python3"
  },
  "language_info": {
   "codemirror_mode": {
    "name": "ipython",
    "version": 3
   },
   "file_extension": ".py",
   "mimetype": "text/x-python",
   "name": "python",
   "nbconvert_exporter": "python",
   "pygments_lexer": "ipython3",
   "version": "3.9.6"
  },
  "orig_nbformat": 4
 },
 "nbformat": 4,
 "nbformat_minor": 2
}
