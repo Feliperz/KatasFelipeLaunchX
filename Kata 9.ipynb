{
 "cells": [
  {
   "cell_type": "markdown",
   "metadata": {},
   "source": [
    "# Ejercicio: Uso de funciones en Python\n",
    "<p style=\"color:yellow\">Ejercicio 1: Trabajar con argumentos en funciones</p>\n",
    "pasos a seguir:<br>\n",
    "<f style=\"color:#33D8D4\">Comienza por crear una función que necesite tres lecturas de combustible y devuelva un informe:<br>\n",
    "Ahora que hemos definido la función de informes, vamos a comprobarlo. Para esta misión, los tanques no están llenos:<br>\n",
    "En lugar de simplemente crear el informe, la función también está calculando el promedio. Mejora la legibilidad extrayendo el cálculo promedio de la función en una nueva función para que el promedio se pueda hacer de forma independiente:<br>\n",
    "Ahora actualiza la función de informes para llamando a la nueva función del promedio:"
   ]
  },
  {
   "cell_type": "code",
   "execution_count": 1,
   "metadata": {},
   "outputs": [
    {
     "name": "stdout",
     "output_type": "stream",
     "text": [
      "Fuel Report:\n",
      "    Total Average: 78.0%\n",
      "    Main tank: 88%\n",
      "    External tank: 76%\n",
      "    Hydrogen tank: 70% \n",
      "    \n"
     ]
    }
   ],
   "source": [
    "def report(tanque1, tanque2, tanque3):\n",
    "    promedio_total = (tanque1 + tanque2 + tanque3) / 3\n",
    "    return f\"\"\"Fuel Report:\n",
    "    Total total_fuction: {promedio_total}%\n",
    "    Tanque 1: {tanque1}%\n",
    "    Tanque 2: {tanque2}%\n",
    "    tanque 3: {tanque3}% \n",
    "    \"\"\"\n",
    "    print(report(80, 70, 85))\n",
    "\n",
    "def total_fuction(values):\n",
    "    total = sum(values)\n",
    "    number_of_items = len(values)\n",
    "    return total / number_of_items\n",
    "\n",
    "\n",
    "total_fuction([80, 85, 81]) \n",
    "\n",
    "def report(tanque1, tanque2, tanque3):\n",
    "    return f\"\"\"Fuel Report:\n",
    "    Total total_fuction: {total_fuction([tanque1, tanque2, tanque3])}%\n",
    "    Tanque 1: {tanque1}%\n",
    "    Tanque 2: {tanque2}%\n",
    "    Tanque 3: {tanque3}% \n",
    "    \"\"\"\n",
    "\n",
    "\n",
    "print(report(88, 76, 70))"
   ]
  },
  {
   "cell_type": "markdown",
   "metadata": {},
   "source": [
    "# Ejercicio 2: Trabajo con argumentos de palabra clave\n",
    "<p style=\"color:yellow\">Ejercicio : Trabajar con argumentos de palabras clave en funciones</p>\n",
    "pasos a seguir:<br>\n",
    "<f style=\"color:#33D8D4\">Comienza por crear una función que creará un informe preciso de la misión: <br>\n",
    "La función es problemática porque no se puede adaptar para minutos adicionales o tanques adicionales de combustible. Hazlo más flexible permitiendo cualquier número de pasos basados en el tiempo y cualquier número de tanques. En lugar de usar *args y **kwargs, aprovecha el hecho de que puedes usar cualquier nombre que desees. Asegurate que la función sea más legible mediante el uso de nombres de variables que están asociados con las entradas, como *minutes y **fuel_reservoirs:<br>\n",
    "Debido a que el combustible que queda en los tanques es específico de cada tanque, actualiza la función para usar el nombre de cada tanque en el informe:"
   ]
  },
  {
   "cell_type": "code",
   "execution_count": 3,
   "metadata": {},
   "outputs": [
    {
     "name": "stdout",
     "output_type": "stream",
     "text": [
      "\n",
      "    Mission to Moon\n",
      "    tiempo total: 65 minutes\n",
      "    combustible total usado: 395320 gallons\n",
      "    \n",
      "\n",
      "    Mission to Moon\n",
      "    tiempo total: 83 minutes\n",
      "    combustible total usado: 4385320\n",
      "    \n",
      "\n",
      "    Mission to Moon\n",
      "    tiempo total: 83 minutes\n",
      "    combustible total usado: 364000\n",
      "    main tank --> 353000 gallons left\n",
      "external tank --> 11000 gallons left\n",
      "\n"
     ]
    }
   ],
   "source": [
    "def report(pre_lanzamiento, tiempo_vuelo, destino, tanque2, tanque1):\n",
    "    return f\"\"\"\n",
    "    Mission to {destino}\n",
    "    tiempo total: {pre_lanzamiento + tiempo_vuelo} minutes\n",
    "    combustible total usado: {tanque2 + tanque1} gallons\n",
    "    \"\"\"\n",
    "\n",
    "print(report(14, 51, \"Moon\", 42320, 353000))\n",
    "\n",
    "def report(destino, *minutes, **fuel_reservoirs):\n",
    "    return f\"\"\"\n",
    "    Mission to {destino}\n",
    "    tiempo total: {sum(minutes)} minutes\n",
    "    combustible total usado: {sum(fuel_reservoirs.values())}\n",
    "    \"\"\"\n",
    "\n",
    "print(report(\"Moon\", 13, 15, 55, main=42320, external=4343000))\n",
    "\n",
    "def report(destino, *minutes, **fuel_reservoirs):\n",
    "    main_report = f\"\"\"\n",
    "    Mission to {destino}\n",
    "    tiempo total: {sum(minutes)} minutes\n",
    "    combustible total usado: {sum(fuel_reservoirs.values())}\n",
    "    \"\"\"\n",
    "    for tank_name, gallons in fuel_reservoirs.items():\n",
    "        main_report += f\"{tank_name} tank --> {gallons} gallons left\\n\"\n",
    "    return main_report\n",
    "\n",
    "print(report(\"Moon\", 13, 15, 55, main=353000, external=11000))"
   ]
  }
 ],
 "metadata": {
  "interpreter": {
   "hash": "0d49bf394fc30ac78d1fb941c491b17abc0ec00e38fae88ef543b2e82b5a3dc9"
  },
  "kernelspec": {
   "display_name": "Python 3.9.6 64-bit",
   "language": "python",
   "name": "python3"
  },
  "language_info": {
   "codemirror_mode": {
    "name": "ipython",
    "version": 3
   },
   "file_extension": ".py",
   "mimetype": "text/x-python",
   "name": "python",
   "nbconvert_exporter": "python",
   "pygments_lexer": "ipython3",
   "version": "3.9.6"
  },
  "orig_nbformat": 4
 },
 "nbformat": 4,
 "nbformat_minor": 2
}
