{
 "cells": [
  {
   "cell_type": "markdown",
   "metadata": {},
   "source": [
    "# Ejercicio 1: Transformar cadenas\n",
    "El texto con el que trabajarás es el siguiente:<br>\n",
    "text = <f style=\"color:red\">\"\"\"Interesting facts about the Moon. The Moon is Earth's only satellite. There are several interesting facts about the Moon and how it affects life here on Earth. \n",
    "   On average, the Moon moves 4cm away from the Earth every year. This yearly drift is not significant enough to cause immediate effects on Eart\"\"\""
   ]
  },
  {
   "cell_type": "markdown",
   "metadata": {},
   "source": [
    "<p style=\"color:yellow\">Pasos a hacer:</p>\n",
    "<f style=\"color:#33D8D4\">1-Primero, divide el texto en cada oración para trabajar con su contenido:<br>\n",
    "2-Define las palabras pista: average, temperature y distance suenan bien<br>\n",
    "3-Crea un bucle para imprimir solo datos sobre la Luna que estén relacionados con las palabras clave definidas anteriormente:<br>\n",
    "4-Finalmente, actualiza el bucle(ciclo) para cambiar C a Celsius:"
   ]
  },
  {
   "cell_type": "code",
   "execution_count": 1,
   "metadata": {},
   "outputs": [
    {
     "name": "stdout",
     "output_type": "stream",
     "text": [
      "\n",
      "   On average, the Moon moves 4cm away from the Earth every year\n",
      "\n",
      "   On average, the Moon moves 4cm away from the Earth every year\n"
     ]
    }
   ],
   "source": [
    "text = \"\"\"Interesting facts about the Moon. The Moon is Earth's only satellite. There are several interesting facts about the Moon and how it affects life here on Earth. \n",
    "   On average, the Moon moves 4cm away from the Earth every year. This yearly drift is not significant enough to cause immediate effects on Eart\"\"\"\n",
    "#1\n",
    "text_part = text.split(\". \")\n",
    "text_part\n",
    "#2\n",
    "palabras_clave = [\"average\",\"temperature\",\"distance\"]\n",
    "#3\n",
    "for oracion in text_part:\n",
    "    for pal_clave in palabras_clave:\n",
    "        if pal_clave in oracion:\n",
    "            print(oracion)\n",
    "            break\n",
    "#4\n",
    "for oracion in text_part:\n",
    "    for pal_clave in palabras_clave:\n",
    "        if pal_clave in oracion:\n",
    "            print(oracion.replace(\"C\",\"Celcius\"))\n",
    "            break"
   ]
  },
  {
   "cell_type": "markdown",
   "metadata": {},
   "source": [
    "# Ejercicio 2: Formateando Cadenas\n",
    "<p style=\"color:yellow\">Datos con los que vas a trabajar</p>\n",
    "name = \"Moon\"<br>\n",
    "gravity = 0.00162 # in kms<br>\n",
    "planet = \"Earth\"<br>\n",
    "<p style=\"color:yellow\">Pasos a Seguir</p>\n",
    "<f style=\"color:#33D8D4\">1-crea un título para el texto<br>\n",
    " 2-crea una plantilla de cadena multilínea para contener el resto de la información<br>\n",
    " 3-usa ambas variables para unir el título y los hechos.<br>\n",
    " 4-usa información de una luna diferente para ver si la plantilla todavía funciona<br>\n",
    " 5-vuelva a hacer la plantilla para utilizar .format()<br>\n",
    " 6-Asegúrese de que la operación se realiza fuera de la plantilla de formato e imprima de nuevo para ver el resultado de trabajo<br>"
   ]
  },
  {
   "cell_type": "code",
   "execution_count": 2,
   "metadata": {},
   "outputs": [
    {
     "name": "stdout",
     "output_type": "stream",
     "text": [
      "Datos Gravitatorios De Marte \n",
      "-------------------------------------------------- \n",
      "Nombre del planeta: Ganímedes \n",
      "Gravedad en Marte: 1.4300000000000002 m/s2 \n",
      "\n",
      "Datos Gravitatorios de Marte\n",
      "----------------------------------------------------------- \n",
      "Nombre del planeta: Ganímedes \n",
      "Gravedad en Marte: 1.4300000000000002 m/s2 \n",
      "\n"
     ]
    }
   ],
   "source": [
    "#4 se utilizó otra luna\n",
    "name = \"Marte\"\n",
    "gravity = 0.00143 \n",
    "planet = \"Ganímedes\"\n",
    "#1\n",
    "titulo = \"Datos Gravitatorios de %s \" %name\n",
    "#2\n",
    "plantilla = f\"\"\"{'-'*50} \n",
    "Nombre del planeta: {planet} \n",
    "Gravedad en {name}: {gravity * 1000} m/s2 \n",
    "\"\"\"\n",
    "#3\n",
    "union = f\"\"\"{titulo.title()}\n",
    "{plantilla}\"\"\"\n",
    "print(union)\n",
    "#4\n",
    "plantilla2 = \"\"\"Datos Gravitatorios de {name}\n",
    "----------------------------------------------------------- \n",
    "Nombre del planeta: {planet} \n",
    "Gravedad en {name}: {gravity} m/s2 \n",
    "\"\"\"\n",
    "print(plantilla2.format(planet = planet, name=name, gravity= gravity*1000))\n"
   ]
  }
 ],
 "metadata": {
  "interpreter": {
   "hash": "0d49bf394fc30ac78d1fb941c491b17abc0ec00e38fae88ef543b2e82b5a3dc9"
  },
  "kernelspec": {
   "display_name": "Python 3.9.6 64-bit",
   "language": "python",
   "name": "python3"
  },
  "language_info": {
   "codemirror_mode": {
    "name": "ipython",
    "version": 3
   },
   "file_extension": ".py",
   "mimetype": "text/x-python",
   "name": "python",
   "nbconvert_exporter": "python",
   "pygments_lexer": "ipython3",
   "version": "3.9.6"
  },
  "orig_nbformat": 4
 },
 "nbformat": 4,
 "nbformat_minor": 2
}
