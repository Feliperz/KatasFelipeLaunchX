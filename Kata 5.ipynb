{
 "cells": [
  {
   "cell_type": "markdown",
   "metadata": {},
   "source": [
    "# Ejercicio1 - Utilizar operadores aritméticos"
   ]
  },
  {
   "cell_type": "markdown",
   "metadata": {},
   "source": [
    "<p style=\"color:yellow\">Operadores aritméticos en Python</p>\n",
    "Comenzaremos usando dos distancias de planetas: Tierra (149.597.870 km) y Júpiter (778.547.200 km). <br>\n",
    "Con los valores obtenidos, es el momento de añadir el código para realizar la operación. Restarás el primer planeta del segundo para determinar la distancia en kilómetros. A continuación, puedes convertir la distancia del kilómetro en millas multiplicándola por 0.621."
   ]
  },
  {
   "cell_type": "code",
   "execution_count": 4,
   "metadata": {},
   "outputs": [
    {
     "name": "stdout",
     "output_type": "stream",
     "text": [
      "la distancia en millas entre los planetas es: 390577533.93\n"
     ]
    }
   ],
   "source": [
    "planet_tierra= 149597870\n",
    "planet_jupiter=778547200\n",
    "distanceKm= abs(149597870 - 778547200)\n",
    "distanceMi = distanceKm*0.621\n",
    "print(\"la distancia en millas entre los planetas es: \" + str(distanceMi))"
   ]
  },
  {
   "cell_type": "markdown",
   "metadata": {},
   "source": [
    "# Ejercicio 2: convierte cadenas en números y usa valores absolutos\n",
    "<p style=\"color:yellow\">Crear una aplicación para trabajar con números y entrada de usuario</p>\n",
    "Pasos a hacer:<br>\n",
    "<f style=\"color:#33D8D4\">Usando input, agrega el código para leer la distancia del sol para cada planeta, considerando 2 planetas.<br>\n",
    "Debido a que input devuelve valores de cadena, necesitamos convertirlos en números. Para nuestro ejemplo, usaremos int<br>\n",
    "Con los valores almacenados como números, ahora puedes agregar el código para realizar el cálculo, restando el primer planeta del segundo. Debido a que el segundo planeta podría ser un número mayor, usarás abs para convertirlo a un valor absoluto. También agregarás el código para mostrar el resultado en millas multiplicando la distancia del kilómetro por 0.621<br>"
   ]
  },
  {
   "cell_type": "code",
   "execution_count": 2,
   "metadata": {},
   "outputs": [
    {
     "name": "stdout",
     "output_type": "stream",
     "text": [
      "la distancia entre ambos planetas en Km es de: 10\n",
      "la distancia entre ambos planetas en Millas es de: 6.21\n"
     ]
    }
   ],
   "source": [
    "planet_first= input(\"ingresa la distancia del sol a tu primer planeta en Km\")\n",
    "planet_second= input(\"ingresa la distancia del sol a tu segundo planeta en Km\")\n",
    "planet_first = int(planet_first)\n",
    "planet_second = int(planet_second)\n",
    "distance=abs(planet_first-planet_second)\n",
    "print(\"la distancia entre ambos planetas en Km es de: \" + str(distance))\n",
    "distanceMi = distance *0.621\n",
    "print(\"la distancia entre ambos planetas en Millas es de: \" + str(distanceMi))"
   ]
  }
 ],
 "metadata": {
  "interpreter": {
   "hash": "0d49bf394fc30ac78d1fb941c491b17abc0ec00e38fae88ef543b2e82b5a3dc9"
  },
  "kernelspec": {
   "display_name": "Python 3.9.6 64-bit",
   "language": "python",
   "name": "python3"
  },
  "language_info": {
   "codemirror_mode": {
    "name": "ipython",
    "version": 3
   },
   "file_extension": ".py",
   "mimetype": "text/x-python",
   "name": "python",
   "nbconvert_exporter": "python",
   "pygments_lexer": "ipython3",
   "version": "3.9.6"
  },
  "orig_nbformat": 4
 },
 "nbformat": 4,
 "nbformat_minor": 2
}
